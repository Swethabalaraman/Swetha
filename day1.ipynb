import numpy as np
X=np.array([[0,0],[0,1],[1,0],[1,1]])
y=np.array([0,0,0,1])
weights=np.zeros(2)
bias=0
#learning rate
lr=0.1
epochs=10
def step(X):
  return 1 if X>=0 else 0
for epoch in range(epochs):
  for i in range(len(X)):
      z=np.dot(X[i],weights)+bias
      pred = step(z)
      error= y[i]-pred
      weights +=lr*error*X[i]
      bias +=lr*error
print("weights",weights)
print("bias",bias)

for i in range(len(X)):
        z=np.dot(X[i],weights)+bias
        pred = step(z)
        print(f"Input : {X[i]} => outpput: {pred}")